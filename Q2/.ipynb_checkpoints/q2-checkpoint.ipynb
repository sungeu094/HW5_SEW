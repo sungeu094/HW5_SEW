{
 "cells": [
  {
   "cell_type": "code",
   "execution_count": 1,
   "id": "58063c5a",
   "metadata": {},
   "outputs": [
    {
     "name": "stdout",
     "output_type": "stream",
     "text": [
      "*** Annual Temperature Report for Seoul in 2022 ***\n",
      "\n",
      "Day with the Largest Temperature Variation: 2022-11-29\n",
      "Maximum Temperature Difference: 16.6 Celsius\n",
      "Day with the Smallest Temperature Variation: 2022-06-29\n",
      "Minimum Temperature Difference: 1.7 Celsius\n"
     ]
    }
   ],
   "source": [
    "import csv\n",
    "\n",
    "def find_extreme_temperature_range(file_path):\n",
    "    temperature_data = []\n",
    "    with open(file_path, 'r', encoding='cp949') as f:\n",
    "        csv_reader = csv.reader(f, delimiter=',')\n",
    "        next(csv_reader)  \n",
    "        for row in csv_reader:\n",
    "            if row:\n",
    "                try:\n",
    "                    date = row[0]\n",
    "                    min_temperature = float(row[-2])\n",
    "                    max_temperature = float(row[-1])\n",
    "                    temperature_range = max_temperature - min_temperature\n",
    "                    temperature_data.append((date, temperature_range))\n",
    "                except ValueError:\n",
    "                    pass\n",
    "\n",
    "    highest_range = max(temperature_data, key=lambda x: x[1])\n",
    "    lowest_range = min(temperature_data, key=lambda x: x[1])\n",
    "\n",
    "    return highest_range, lowest_range\n",
    "\n",
    "def main():\n",
    "    file_path = 'seoul.csv'\n",
    "\n",
    "    highest_range, lowest_range = find_extreme_temperature_range(file_path)\n",
    "\n",
    "    print(\"*** Annual Temperature Report for Seoul in 2022 ***\\n\")\n",
    "\n",
    "    print(\"Day with the Largest Temperature Variation:\", highest_range[0])\n",
    "    print(\"Maximum Temperature Difference:\",(highest_range[1]), \"Celsius\")\n",
    "\n",
    "    print(\"Day with the Smallest Temperature Variation:\", lowest_range[0])\n",
    "    print(\"Minimum Temperature Difference: {:.1f}\".format(lowest_range[1]), \"Celsius\")\n",
    "    \n",
    "if __name__ == '__main__':\n",
    "    main()"
   ]
  }
 ],
 "metadata": {
  "kernelspec": {
   "display_name": "Python 3 (ipykernel)",
   "language": "python",
   "name": "python3"
  },
  "language_info": {
   "codemirror_mode": {
    "name": "ipython",
    "version": 3
   },
   "file_extension": ".py",
   "mimetype": "text/x-python",
   "name": "python",
   "nbconvert_exporter": "python",
   "pygments_lexer": "ipython3",
   "version": "3.11.2"
  }
 },
 "nbformat": 4,
 "nbformat_minor": 5
}
