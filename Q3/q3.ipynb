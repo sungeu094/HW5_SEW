{
 "cells": [
  {
   "cell_type": "code",
   "execution_count": 43,
   "id": "8106faa7",
   "metadata": {},
   "outputs": [
    {
     "name": "stdout",
     "output_type": "stream",
     "text": [
      "*** Subway Report for Seoul on March 2023 ***\n",
      "1번째 Busiest Line: 2호선 ( 85620512 명)\n",
      "2번째 Busiest Line: 5호선 ( 39671990 명)\n",
      "\n",
      "1번째 Least used Line: 장항선 ( 1207577 명)\n",
      "2번째 Least used Line: 경강선 ( 2009548 명)\n",
      "\n"
     ]
    }
   ],
   "source": [
    "import csv\n",
    "\n",
    "def find_busiest_and_least_used_lines(file_path):\n",
    "    line_data = {}\n",
    "    with open(file_path, 'r', encoding='cp949') as f:\n",
    "        csv_reader = csv.reader(f)\n",
    "        next(csv_reader)  \n",
    "        for row in csv_reader:\n",
    "            line = row[1]  \n",
    "            passengers = int(row[4].replace('\"', '').replace(',', ''))  # 승차승객수\n",
    "            alighters = int(row[5].replace('\"', '').replace(',', ''))  # 하차승객수\n",
    "            total_passengers = passengers + alighters  # 총 이용자 수\n",
    "            \n",
    "            if line in line_data:\n",
    "                line_data[line] += total_passengers\n",
    "            else:\n",
    "                line_data[line] = total_passengers\n",
    "\n",
    "    busiest_lines = sorted(line_data, key=line_data.get, reverse=True)[:2]\n",
    "    least_used_lines = sorted(line_data, key=line_data.get)[:2]\n",
    "    \n",
    "    return busiest_lines, least_used_lines, line_data\n",
    "\n",
    "file_path = 'q3.csv'\n",
    "\n",
    "busiest_lines, least_used_lines, line_data = find_busiest_and_least_used_lines(file_path)\n",
    "\n",
    "\n",
    "sorted_lines = sorted(busiest_lines, key=lambda x: line_data[x], reverse=True)\n",
    "sorted_lines1 = sorted(least_used_lines, key=lambda x: line_data[x], reverse=False)\n",
    "\n",
    "print(\"*** Subway Report for Seoul on March 2023 ***\")\n",
    "for i, line in enumerate(sorted_lines):\n",
    "    print(\"{}번째 Busiest Line:\".format(i+1), line, \"(\", line_data[line], \"명)\")\n",
    "\n",
    "print()\n",
    "\n",
    "\n",
    "for i,line in enumerate(sorted_lines1):\n",
    "    print(\"{}번째 Least used Line:\".format(i+1), line, \"(\", line_data[line], \"명)\")\n",
    "    \n",
    "print()\n"
   ]
  },
  {
   "cell_type": "code",
   "execution_count": null,
   "id": "e3c9e2b5",
   "metadata": {},
   "outputs": [],
   "source": []
  }
 ],
 "metadata": {
  "kernelspec": {
   "display_name": "Python 3 (ipykernel)",
   "language": "python",
   "name": "python3"
  },
  "language_info": {
   "codemirror_mode": {
    "name": "ipython",
    "version": 3
   },
   "file_extension": ".py",
   "mimetype": "text/x-python",
   "name": "python",
   "nbconvert_exporter": "python",
   "pygments_lexer": "ipython3",
   "version": "3.11.2"
  }
 },
 "nbformat": 4,
 "nbformat_minor": 5
}
