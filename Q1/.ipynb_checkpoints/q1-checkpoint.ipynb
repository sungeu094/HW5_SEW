{
 "cells": [
  {
   "cell_type": "code",
   "execution_count": 3,
   "id": "3de7ffaa",
   "metadata": {},
   "outputs": [
    {
     "name": "stdout",
     "output_type": "stream",
     "text": [
      "*** Annual Temperature Report for Seoul in 2022 ***\n",
      "Average Temperature : 13.26 Celsius\n",
      "Average Minimum Temperature : 9.21 Celsius\n",
      "Average Maximum Temperature : 18.05 Celsius\n"
     ]
    }
   ],
   "source": [
    "import csv\n",
    "\n",
    "def calculate_average_max_temperature(file_path):\n",
    "    # CSV 파일 읽기\n",
    "    avg_temperatures = []\n",
    "    max_temperatures = []\n",
    "    min_temperatures = []\n",
    "    with open(file_path, 'r', encoding='cp949') as f:\n",
    "        csv_reader = csv.reader(f, delimiter=',')\n",
    "        next(csv_reader)  # 첫 번째 행(열 이름)을 건너뜁니다.\n",
    "        for row in csv_reader:\n",
    "            if row:\n",
    "                try:\n",
    "                    avg_temperature = float(row[-3])\n",
    "                    max_temperature = float(row[-1])\n",
    "                    min_temperature = float(row[-2])\n",
    "                    avg_temperatures.append(avg_temperature)\n",
    "                    max_temperatures.append(max_temperature)\n",
    "                    min_temperatures.append(min_temperature)\n",
    "                except ValueError:\n",
    "                    pass\n",
    "\n",
    "    average_avg_temperature = round(sum(avg_temperatures)/ len(avg_temperatures), 2)\n",
    "    average_max_temperature = round(sum(max_temperatures) / len(max_temperatures), 2)\n",
    "    average_min_temperature = round(sum(min_temperatures) / len(min_temperatures), 2)\n",
    "\n",
    "    return average_max_temperature, average_min_temperature, average_avg_temperature\n",
    "\n",
    "def main():\n",
    "    file_path = 'seoul.csv'\n",
    "\n",
    "    average_max_temperature, average_min_temperature, average_avg_temperature = calculate_average_max_temperature(file_path)\n",
    "\n",
    "    print(\"*** Annual Temperature Report for Seoul in 2022 ***\")\n",
    "    print(\"Average Temperature :\", average_avg_temperature, \"Celsius\")\n",
    "    print(\"Average Minimum Temperature :\", average_min_temperature, \"Celsius\")\n",
    "    print(\"Average Maximum Temperature :\", average_max_temperature, \"Celsius\")\n",
    "    \n",
    "if __name__ == '__main__':\n",
    "    main()\n"
   ]
  },
  {
   "cell_type": "code",
   "execution_count": null,
   "id": "85a0b1b0",
   "metadata": {},
   "outputs": [],
   "source": []
  },
  {
   "cell_type": "code",
   "execution_count": null,
   "id": "5c44bf20",
   "metadata": {},
   "outputs": [],
   "source": []
  },
  {
   "cell_type": "code",
   "execution_count": null,
   "id": "daa98dc6",
   "metadata": {},
   "outputs": [],
   "source": []
  },
  {
   "cell_type": "code",
   "execution_count": 35,
   "id": "e6ca22ca",
   "metadata": {},
   "outputs": [
    {
     "name": "stdout",
     "output_type": "stream",
     "text": [
      "*** Annual Temperature Report for Seoul in 2022 ***\n",
      "\n",
      "Day with the Largest Temperature Variation: 2022-11-29\n",
      "Maximum Temperature Difference: 16.6 Celsius\n",
      "Day with the Smallest Temperature Variation: 2022-06-29\n",
      "Minimum Temperature Difference: 1.7 Celsius\n"
     ]
    }
   ],
   "source": [
    "\n"
   ]
  },
  {
   "cell_type": "code",
   "execution_count": null,
   "id": "e7ce28db",
   "metadata": {},
   "outputs": [],
   "source": []
  }
 ],
 "metadata": {
  "kernelspec": {
   "display_name": "Python 3 (ipykernel)",
   "language": "python",
   "name": "python3"
  },
  "language_info": {
   "codemirror_mode": {
    "name": "ipython",
    "version": 3
   },
   "file_extension": ".py",
   "mimetype": "text/x-python",
   "name": "python",
   "nbconvert_exporter": "python",
   "pygments_lexer": "ipython3",
   "version": "3.11.2"
  }
 },
 "nbformat": 4,
 "nbformat_minor": 5
}
